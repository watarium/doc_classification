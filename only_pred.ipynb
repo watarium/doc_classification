{
 "cells": [
  {
   "cell_type": "code",
   "execution_count": 2,
   "metadata": {
    "collapsed": false
   },
   "outputs": [
    {
     "name": "stderr",
     "output_type": "stream",
     "text": [
      "Using TensorFlow backend.\n"
     ]
    }
   ],
   "source": [
    "import os\n",
    "from keras.models import load_model\n",
    "import numpy as np\n",
    "from sklearn.preprocessing import LabelEncoder\n",
    "import pickle"
   ]
  },
  {
   "cell_type": "markdown",
   "metadata": {
    "collapsed": true
   },
   "source": [
    "For embedded data"
   ]
  },
  {
   "cell_type": "code",
   "execution_count": 5,
   "metadata": {
    "collapsed": false
   },
   "outputs": [
    {
     "name": "stdout",
     "output_type": "stream",
     "text": [
      "[[  0   0   0   0   0   0   0   0   0   0   0   0   0   0   0   0   0   0\n",
      "    0   0   0   0   0   0   0   0   0   0   0   0   0   0   0   0   0   0\n",
      "    0   0   0   0   0   0   0   0   0   0   0   0 581 986]]\n",
      "Attack is not detected\n",
      "prediction:[[0.08963029 0.908856  ]]\n",
      "[';cat secret.txt']\n"
     ]
    }
   ],
   "source": [
    "model = load_model('owasp10_contami_300_model.h5', compile=False)\n",
    "with open('owasp10_contami_300_token.pickle', 'rb') as handle:\n",
    "    tokenizer = pickle.load(handle)\n",
    "with open('owasp10_contami_300_encode.pickle', 'rb') as handle:\n",
    "    encoder = pickle.load(handle)\n",
    "    \n",
    "from keras.preprocessing.sequence import pad_sequences\n",
    "max_len = 50\n",
    "\n",
    "request = ';cat secret.txt'\n",
    "request = [request]\n",
    "\n",
    "tokenizer.fit_on_texts(request)\n",
    "req_mat = tokenizer.texts_to_sequences(request)\n",
    "data_sec = pad_sequences(req_mat, maxlen=max_len)\n",
    "prediction = model.predict(np.array(data_sec))\n",
    "print(np.array(data_sec))\n",
    "predicted_label = encoder.classes_[np.argmax(prediction)]\n",
    "if prediction[0][0] > prediction[0][1]:\n",
    "    print('Attack is detected!')\n",
    "    print('prediction:' + str(prediction))\n",
    "    print(request)\n",
    "else:\n",
    "    print('Attack is not detected')\n",
    "    print('prediction:' + str(prediction))\n",
    "    print(request)"
   ]
  },
  {
   "cell_type": "code",
   "execution_count": null,
   "metadata": {
    "collapsed": true
   },
   "outputs": [],
   "source": []
  }
 ],
 "metadata": {
  "kernelspec": {
   "display_name": "Python 3",
   "language": "python",
   "name": "python3"
  },
  "language_info": {
   "codemirror_mode": {
    "name": "ipython",
    "version": 3
   },
   "file_extension": ".py",
   "mimetype": "text/x-python",
   "name": "python",
   "nbconvert_exporter": "python",
   "pygments_lexer": "ipython3",
   "version": "3.6.0"
  }
 },
 "nbformat": 4,
 "nbformat_minor": 2
}
