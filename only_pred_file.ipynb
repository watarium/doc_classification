{
 "cells": [
  {
   "cell_type": "code",
   "execution_count": 1,
   "metadata": {
    "collapsed": false
   },
   "outputs": [
    {
     "name": "stderr",
     "output_type": "stream",
     "text": [
      "Using TensorFlow backend.\n"
     ]
    }
   ],
   "source": [
    "import os\n",
    "from keras.models import load_model\n",
    "import numpy as np\n",
    "from sklearn.preprocessing import LabelEncoder\n",
    "import pickle"
   ]
  },
  {
   "cell_type": "code",
   "execution_count": 13,
   "metadata": {
    "collapsed": false
   },
   "outputs": [],
   "source": [
    "# Open file\n",
    "test_data = open(\"feedback.log\", \"r\")\n",
    "# Create list\n",
    "lines = test_data.readlines()\n",
    "# Close file\n",
    "test_data.close()"
   ]
  },
  {
   "cell_type": "code",
   "execution_count": 14,
   "metadata": {
    "collapsed": false
   },
   "outputs": [
    {
     "name": "stdout",
     "output_type": "stream",
     "text": [
      "Attack is detected\n",
      "prediction:[[0.7017166  0.29949114]]\n",
      ";cat secret.txt\n",
      "\n"
     ]
    }
   ],
   "source": [
    "model = load_model('owasp10_model.h5', compile=False)\n",
    "with open('owasp10_token.pickle', 'rb') as handle:\n",
    "    tokenizer = pickle.load(handle)\n",
    "with open('owasp10_encode.pickle', 'rb') as handle:\n",
    "    encoder = pickle.load(handle)\n",
    "    \n",
    "from keras.preprocessing.sequence import pad_sequences\n",
    "max_len = 50\n",
    "\n",
    "for line in lines:\n",
    "    request = [line]\n",
    "\n",
    "    tokenizer.fit_on_texts(request)\n",
    "    req_mat = tokenizer.texts_to_sequences(request)\n",
    "    data_sec = pad_sequences(req_mat, maxlen=max_len)\n",
    "    prediction = model.predict(np.array(data_sec))\n",
    "\n",
    "    predicted_label = encoder.classes_[np.argmax(prediction)]\n",
    "    if prediction[0][0] > prediction[0][1]:\n",
    "        print('Attack is detected')\n",
    "        print('prediction:' + str(prediction))\n",
    "        print(line)"
   ]
  },
  {
   "cell_type": "code",
   "execution_count": null,
   "metadata": {
    "collapsed": true
   },
   "outputs": [],
   "source": []
  }
 ],
 "metadata": {
  "kernelspec": {
   "display_name": "Python 3",
   "language": "python",
   "name": "python3"
  },
  "language_info": {
   "codemirror_mode": {
    "name": "ipython",
    "version": 3
   },
   "file_extension": ".py",
   "mimetype": "text/x-python",
   "name": "python",
   "nbconvert_exporter": "python",
   "pygments_lexer": "ipython3",
   "version": "3.6.0"
  }
 },
 "nbformat": 4,
 "nbformat_minor": 2
}
